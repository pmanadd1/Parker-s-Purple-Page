{
  "nbformat": 4,
  "nbformat_minor": 0,
  "metadata": {
    "colab": {
      "provenance": [],
      "authorship_tag": "ABX9TyNvA1Pr5GFa2fiN8Rnh6rlv",
      "include_colab_link": true
    },
    "kernelspec": {
      "name": "python3",
      "display_name": "Python 3"
    },
    "language_info": {
      "name": "python"
    }
  },
  "cells": [
    {
      "cell_type": "markdown",
      "metadata": {
        "id": "view-in-github",
        "colab_type": "text"
      },
      "source": [
        "<a href=\"https://colab.research.google.com/github/pmanadd1/Parker-s-Purple-Page/blob/main/Untitled1.ipynb\" target=\"_parent\"><img src=\"https://colab.research.google.com/assets/colab-badge.svg\" alt=\"Open In Colab\"/></a>"
      ]
    },
    {
      "cell_type": "code",
      "execution_count": null,
      "metadata": {
        "cellView": "form",
        "id": "CYP12uxbjh_p"
      },
      "outputs": [],
      "source": [
        "# @title\n",
        "import random\n",
        "\n",
        "int1 = \" \"\n",
        "res1=False\n",
        "check1 = False\n",
        "res11 = False\n",
        "while check1 == False:\n",
        "  int1 = str(int1)\n",
        "  check2 = False\n",
        "  while check2 == False:\n",
        "    check2 = True\n",
        "    for character in int1:\n",
        "      int1 = input(\"enter a value 1-999: \")\n",
        "      for character in int1:\n",
        "          try:\n",
        "            float(character)\n",
        "            res1=True\n",
        "          except:\n",
        "            res1=False\n",
        "          if character == \".\":\n",
        "            res11 = False\n",
        "          else:\n",
        "            res11 = True\n",
        "      if res1 == False:\n",
        "        check2 = False\n",
        "        print(\"try again\")\n",
        "      if res11 == False:\n",
        "        check2 = False\n",
        "        print(\"try again\")\n",
        "\n",
        "  int1 = float(int1)\n",
        "  if int1 != 0 and int1 <= 999 :\n",
        "    check1 = True\n",
        "  else:\n",
        "    check1 = False\n",
        "    print(\" number not within 1-999\")\n",
        "    print(\"try again\")\n",
        "\n",
        "\n",
        "\n",
        "\n",
        "\n",
        "\n",
        "\n",
        "\n",
        "a = random.randint(1,10)\n",
        "int_product_1 = int1 * a\n",
        "\n",
        "print(int_product_1)\n",
        "x = 0\n",
        "while x != 1:\n",
        "\n",
        "  checkq1 = False\n",
        "  q1 = \" \"\n",
        "  resq1=False\n",
        "\n",
        "  while checkq1 == False:\n",
        "    q1 = str(q1)\n",
        "    checkq2 = False\n",
        "    while checkq2 == False:\n",
        "      checkq2 = True\n",
        "      for character in q1:\n",
        "        q1 = input(\"what is first number multiplied by between 1 and 10?  \")\n",
        "        for character in q1:\n",
        "            try:\n",
        "              float(character)\n",
        "              resq1=True\n",
        "            except:\n",
        "              resq1=False\n",
        "        if resq1 == False:\n",
        "          checkq2 = False\n",
        "          print(\"try again\")\n",
        "    q1 = float(q1)\n",
        "    if q1 != 0 and q1 <= 10 :\n",
        "      checkq1 = True\n",
        "    else:\n",
        "      checkq1 = False\n",
        "      print(\" number not within 1-10\")\n",
        "      print(\"try again\")\n",
        "\n",
        "\n",
        "  if q1 == a:\n",
        "    print(\"correct\")\n",
        "    x = x + 1\n",
        "  else:\n",
        "    print(\"incorrect try again\")"
      ]
    }
  ]
}